{
 "cells": [
  {
   "cell_type": "code",
   "execution_count": 15,
   "metadata": {},
   "outputs": [],
   "source": [
    "import numpy as np\n",
    "import matplotlib.pyplot as plt"
   ]
  },
  {
   "cell_type": "code",
   "execution_count": 16,
   "metadata": {},
   "outputs": [],
   "source": [
    "data = np.loadtxt(\"loop.txt\");"
   ]
  },
  {
   "cell_type": "code",
   "execution_count": 17,
   "metadata": {},
   "outputs": [],
   "source": [
    "size = int(data[0]);\n",
    "indices = data[1:];\n",
    "\n",
    "points = np.zeros(shape = (size**2, 2));\n",
    "for y in range(size):\n",
    "    for x in range(size):\n",
    "        points[y * size + x] = np.array([x,y])"
   ]
  },
  {
   "cell_type": "code",
   "execution_count": 18,
   "metadata": {},
   "outputs": [
    {
     "data": {
      "image/png": "[encoded data removed]",
      "text/plain": [
       "<Figure size 360x360 with 1 Axes>"
      ]
     },
     "metadata": {
      "needs_background": "light"
     },
     "output_type": "display_data"
    }
   ],
   "source": [
    "draw_points = []\n",
    "for y in range(1, size - 1):\n",
    "    for x in range(1, size - 1):\n",
    "        draw_points.append(np.array([x,y]))\n",
    "\n",
    "draw_points = np.array(draw_points)\n",
    "figure = plt.figure(figsize=(5,5))\n",
    "plt.axis(\"off\")\n",
    "\n",
    "################ DRAW GRID ################\n",
    "plt.scatter(draw_points[:,0], draw_points[:,1], c='black')\n",
    "################ DRAW GRID ################\n",
    "\n",
    "################ DRAW LOOPS ################\n",
    "for n in range(0, len(indices), 2):\n",
    "    p0 = points[int(indices[n])];\n",
    "    p1 = points[int(indices[n+1])];\n",
    "\n",
    "    plt.plot([p0[0], p1[0]], [p0[1], p1[1]], c = 'maroon', linewidth = 3)\n",
    "################ DRAW LOOPS ################"
   ]
  }
 ],
 "metadata": {
  "kernelspec": {
   "display_name": "Python 3.10.5 64-bit",
   "language": "python",
   "name": "python3"
  },
  "language_info": {
   "codemirror_mode": {
    "name": "ipython",
    "version": 3
   },
   "file_extension": ".py",
   "mimetype": "text/x-python",
   "name": "python",
   "nbconvert_exporter": "python",
   "pygments_lexer": "ipython3",
   "version": "3.10.5"
  },
  "orig_nbformat": 4,
  "vscode": {
   "interpreter": {
    "hash": "e73d642aeb04a8a8529c743fd9bb87ca49286a20e160138ea1eea62b6613101b"
   }
  }
 },
 "nbformat": 4,
 "nbformat_minor": 2
}
